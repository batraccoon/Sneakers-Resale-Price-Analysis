{
 "cells": [
  {
   "cell_type": "markdown",
   "metadata": {},
   "source": [
    "===================================================  \n",
    "Sneakers Resale Price Analysis\n",
    "\n",
    "by Angger Rizky Firdaus\n",
    "\n",
    "This project is developed to accomplish milestone 1 of the FTDS Hacktiv8 program.\n",
    "\n",
    "===================================================\n"
   ]
  },
  {
   "cell_type": "code",
   "execution_count": 1,
   "metadata": {},
   "outputs": [
    {
     "name": "stderr",
     "output_type": "stream",
     "text": [
      "C:\\Users\\D5att\\AppData\\Local\\Temp\\ipykernel_20064\\1369496293.py:7: DeprecationWarning: Importing display from IPython.core.display is deprecated since IPython 7.14, please import from IPython display\n",
      "  from IPython.core.display import display, HTML\n"
     ]
    }
   ],
   "source": [
    "#Import Library\n",
    "import opendatasets as od\n",
    "import pandas as pd\n",
    "from scipy import stats\n",
    "import matplotlib.pyplot as plt\n",
    "import seaborn as sns\n",
    "from IPython.core.display import display, HTML\n",
    "import numpy as np\n",
    "np.random.seed(10)"
   ]
  },
  {
   "cell_type": "markdown",
   "metadata": {},
   "source": [
    "# Identification of problems"
   ]
  },
  {
   "cell_type": "markdown",
   "metadata": {},
   "source": [
    "__Case__\n",
    "\n",
    "I am a sneaker seller offering a wide range of sneakers that are currently popular within the sneaker enthusiast community. I intend to purchase a considerable amount of sneakers to stock up for resale. However, I'm uncertain about which brands and models to invest in. Currently, two shoes that are highly discussed are the Adidas X Yeezy: Adidas Yeezy and the Nike x Off-White collaboration. I aim to determine which of these two collaborations garners more interest and sells more quickly based on an analysis of the StockX Sneaker Data Contest dataset from Kaggle.\n",
    "\n",
    "\n",
    "Source of dataset : https://www.kaggle.com/datasets/hudsonstuck/stockx-data-contest/data  "
   ]
  },
  {
   "cell_type": "markdown",
   "metadata": {},
   "source": [
    "__SMART Framework__\n",
    "\n",
    "To establish the purpose, process, and deadline, I have devised the SMART Framework:\n",
    "\n",
    "- Specific: To procure highly sought-after sneakers to expedite product turnover.\n",
    "\n",
    "- Measurable: Achieve a 20% profit margin on each sale.\n",
    "\n",
    "- Achievable: Analyze dataset to identify popular sneaker models and sizes, determine appropriate pricing strategies to attain desired profit margins.\n",
    "\n",
    "- Relevant: Shoe type and size directly impact pricing.\n",
    "\n",
    "- Time-Bound: Results will be assessed by the end of Quarter 2 (within the next 3 months).\n",
    "\n",
    "Summary\n",
    "\n",
    "Conduct analysis on sneaker sales data to identify profitable shoe models and sizes with a 20% profit margin target. Results will be evaluated in the following quarter."
   ]
  },
  {
   "cell_type": "markdown",
   "metadata": {},
   "source": [
    "__Breaking Down The Problem__\n",
    "\n",
    "The issues to be addressed are:\n",
    "\n",
    "1. Is there a correlation between sizing and pricing?\n",
    "2. What is the appropriate price point for selling the shoes?\n",
    "3. Which sizes are in high demand among buyers?\n",
    "4. Which shoe models and brands are most favored?\n",
    "5. When is the optimal time to sell the shoes?\n",
    "6. Which regions demonstrate the highest purchasing activity for sneakers?\n",
    "7. Is the average price of Adidas Yeezy shoes comparable to the average price of Nike x Off-White shoes?\n",
    "\n",
    "\n"
   ]
  },
  {
   "cell_type": "markdown",
   "metadata": {},
   "source": [
    "# Data Loading"
   ]
  },
  {
   "cell_type": "code",
   "execution_count": 2,
   "metadata": {},
   "outputs": [],
   "source": [
    "#The syntax to download a file from Kaggle using the libraries from OpenDatasets.\n",
    "#od.download('https://www.kaggle.com/datasets/hudsonstuck/stockx-data-contest/data')"
   ]
  },
  {
   "cell_type": "code",
   "execution_count": 3,
   "metadata": {},
   "outputs": [],
   "source": [
    "#Loading dataset from csv file\n",
    "df = pd.read_csv('StockX-Data-Contest-2019-3.csv')\n"
   ]
  },
  {
   "cell_type": "code",
   "execution_count": 4,
   "metadata": {},
   "outputs": [
    {
     "data": {
      "text/html": [
       "<div>\n",
       "<style scoped>\n",
       "    .dataframe tbody tr th:only-of-type {\n",
       "        vertical-align: middle;\n",
       "    }\n",
       "\n",
       "    .dataframe tbody tr th {\n",
       "        vertical-align: top;\n",
       "    }\n",
       "\n",
       "    .dataframe thead th {\n",
       "        text-align: right;\n",
       "    }\n",
       "</style>\n",
       "<table border=\"1\" class=\"dataframe\">\n",
       "  <thead>\n",
       "    <tr style=\"text-align: right;\">\n",
       "      <th></th>\n",
       "      <th>Order Date</th>\n",
       "      <th>Brand</th>\n",
       "      <th>Sneaker Name</th>\n",
       "      <th>Sale Price</th>\n",
       "      <th>Retail Price</th>\n",
       "      <th>Release Date</th>\n",
       "      <th>Shoe Size</th>\n",
       "      <th>Buyer Region</th>\n",
       "    </tr>\n",
       "  </thead>\n",
       "  <tbody>\n",
       "    <tr>\n",
       "      <th>0</th>\n",
       "      <td>9/1/17</td>\n",
       "      <td>Yeezy</td>\n",
       "      <td>Adidas-Yeezy-Boost-350-Low-V2-Beluga</td>\n",
       "      <td>$1,097</td>\n",
       "      <td>$220</td>\n",
       "      <td>9/24/16</td>\n",
       "      <td>11.0</td>\n",
       "      <td>California</td>\n",
       "    </tr>\n",
       "    <tr>\n",
       "      <th>1</th>\n",
       "      <td>9/1/17</td>\n",
       "      <td>Yeezy</td>\n",
       "      <td>Adidas-Yeezy-Boost-350-V2-Core-Black-Copper</td>\n",
       "      <td>$685</td>\n",
       "      <td>$220</td>\n",
       "      <td>11/23/16</td>\n",
       "      <td>11.0</td>\n",
       "      <td>California</td>\n",
       "    </tr>\n",
       "    <tr>\n",
       "      <th>2</th>\n",
       "      <td>9/1/17</td>\n",
       "      <td>Yeezy</td>\n",
       "      <td>Adidas-Yeezy-Boost-350-V2-Core-Black-Green</td>\n",
       "      <td>$690</td>\n",
       "      <td>$220</td>\n",
       "      <td>11/23/16</td>\n",
       "      <td>11.0</td>\n",
       "      <td>California</td>\n",
       "    </tr>\n",
       "    <tr>\n",
       "      <th>3</th>\n",
       "      <td>9/1/17</td>\n",
       "      <td>Yeezy</td>\n",
       "      <td>Adidas-Yeezy-Boost-350-V2-Core-Black-Red</td>\n",
       "      <td>$1,075</td>\n",
       "      <td>$220</td>\n",
       "      <td>11/23/16</td>\n",
       "      <td>11.5</td>\n",
       "      <td>Kentucky</td>\n",
       "    </tr>\n",
       "    <tr>\n",
       "      <th>4</th>\n",
       "      <td>9/1/17</td>\n",
       "      <td>Yeezy</td>\n",
       "      <td>Adidas-Yeezy-Boost-350-V2-Core-Black-Red-2017</td>\n",
       "      <td>$828</td>\n",
       "      <td>$220</td>\n",
       "      <td>2/11/17</td>\n",
       "      <td>11.0</td>\n",
       "      <td>Rhode Island</td>\n",
       "    </tr>\n",
       "    <tr>\n",
       "      <th>...</th>\n",
       "      <td>...</td>\n",
       "      <td>...</td>\n",
       "      <td>...</td>\n",
       "      <td>...</td>\n",
       "      <td>...</td>\n",
       "      <td>...</td>\n",
       "      <td>...</td>\n",
       "      <td>...</td>\n",
       "    </tr>\n",
       "    <tr>\n",
       "      <th>99951</th>\n",
       "      <td>2/13/19</td>\n",
       "      <td>Yeezy</td>\n",
       "      <td>adidas-Yeezy-Boost-350-V2-Static-Reflective</td>\n",
       "      <td>$565</td>\n",
       "      <td>$220</td>\n",
       "      <td>12/26/18</td>\n",
       "      <td>8.0</td>\n",
       "      <td>Oregon</td>\n",
       "    </tr>\n",
       "    <tr>\n",
       "      <th>99952</th>\n",
       "      <td>2/13/19</td>\n",
       "      <td>Yeezy</td>\n",
       "      <td>adidas-Yeezy-Boost-350-V2-Static-Reflective</td>\n",
       "      <td>$598</td>\n",
       "      <td>$220</td>\n",
       "      <td>12/26/18</td>\n",
       "      <td>8.5</td>\n",
       "      <td>California</td>\n",
       "    </tr>\n",
       "    <tr>\n",
       "      <th>99953</th>\n",
       "      <td>2/13/19</td>\n",
       "      <td>Yeezy</td>\n",
       "      <td>adidas-Yeezy-Boost-350-V2-Static-Reflective</td>\n",
       "      <td>$605</td>\n",
       "      <td>$220</td>\n",
       "      <td>12/26/18</td>\n",
       "      <td>5.5</td>\n",
       "      <td>New York</td>\n",
       "    </tr>\n",
       "    <tr>\n",
       "      <th>99954</th>\n",
       "      <td>2/13/19</td>\n",
       "      <td>Yeezy</td>\n",
       "      <td>adidas-Yeezy-Boost-350-V2-Static-Reflective</td>\n",
       "      <td>$650</td>\n",
       "      <td>$220</td>\n",
       "      <td>12/26/18</td>\n",
       "      <td>11.0</td>\n",
       "      <td>California</td>\n",
       "    </tr>\n",
       "    <tr>\n",
       "      <th>99955</th>\n",
       "      <td>2/13/19</td>\n",
       "      <td>Yeezy</td>\n",
       "      <td>adidas-Yeezy-Boost-350-V2-Static-Reflective</td>\n",
       "      <td>$640</td>\n",
       "      <td>$220</td>\n",
       "      <td>12/26/18</td>\n",
       "      <td>11.5</td>\n",
       "      <td>Texas</td>\n",
       "    </tr>\n",
       "  </tbody>\n",
       "</table>\n",
       "<p>99956 rows × 8 columns</p>\n",
       "</div>"
      ],
      "text/plain": [
       "      Order Date   Brand                                   Sneaker Name  \\\n",
       "0         9/1/17   Yeezy           Adidas-Yeezy-Boost-350-Low-V2-Beluga   \n",
       "1         9/1/17   Yeezy    Adidas-Yeezy-Boost-350-V2-Core-Black-Copper   \n",
       "2         9/1/17   Yeezy     Adidas-Yeezy-Boost-350-V2-Core-Black-Green   \n",
       "3         9/1/17   Yeezy       Adidas-Yeezy-Boost-350-V2-Core-Black-Red   \n",
       "4         9/1/17   Yeezy  Adidas-Yeezy-Boost-350-V2-Core-Black-Red-2017   \n",
       "...          ...     ...                                            ...   \n",
       "99951    2/13/19   Yeezy    adidas-Yeezy-Boost-350-V2-Static-Reflective   \n",
       "99952    2/13/19   Yeezy    adidas-Yeezy-Boost-350-V2-Static-Reflective   \n",
       "99953    2/13/19   Yeezy    adidas-Yeezy-Boost-350-V2-Static-Reflective   \n",
       "99954    2/13/19   Yeezy    adidas-Yeezy-Boost-350-V2-Static-Reflective   \n",
       "99955    2/13/19   Yeezy    adidas-Yeezy-Boost-350-V2-Static-Reflective   \n",
       "\n",
       "      Sale Price Retail Price Release Date  Shoe Size  Buyer Region  \n",
       "0         $1,097         $220      9/24/16       11.0    California  \n",
       "1           $685         $220     11/23/16       11.0    California  \n",
       "2           $690         $220     11/23/16       11.0    California  \n",
       "3         $1,075         $220     11/23/16       11.5      Kentucky  \n",
       "4           $828         $220      2/11/17       11.0  Rhode Island  \n",
       "...          ...          ...          ...        ...           ...  \n",
       "99951       $565         $220     12/26/18        8.0        Oregon  \n",
       "99952       $598         $220     12/26/18        8.5    California  \n",
       "99953       $605         $220     12/26/18        5.5      New York  \n",
       "99954       $650         $220     12/26/18       11.0    California  \n",
       "99955       $640         $220     12/26/18       11.5         Texas  \n",
       "\n",
       "[99956 rows x 8 columns]"
      ]
     },
     "execution_count": 4,
     "metadata": {},
     "output_type": "execute_result"
    }
   ],
   "source": [
    "#assign new variable to call the dataset\n",
    "sniker = df.copy()\n",
    "sniker"
   ]
  },
  {
   "cell_type": "code",
   "execution_count": 5,
   "metadata": {},
   "outputs": [
    {
     "name": "stdout",
     "output_type": "stream",
     "text": [
      "<class 'pandas.core.frame.DataFrame'>\n",
      "RangeIndex: 99956 entries, 0 to 99955\n",
      "Data columns (total 8 columns):\n",
      " #   Column        Non-Null Count  Dtype  \n",
      "---  ------        --------------  -----  \n",
      " 0   Order Date    99956 non-null  object \n",
      " 1   Brand         99956 non-null  object \n",
      " 2   Sneaker Name  99956 non-null  object \n",
      " 3   Sale Price    99956 non-null  object \n",
      " 4   Retail Price  99956 non-null  object \n",
      " 5   Release Date  99956 non-null  object \n",
      " 6   Shoe Size     99956 non-null  float64\n",
      " 7   Buyer Region  99956 non-null  object \n",
      "dtypes: float64(1), object(7)\n",
      "memory usage: 6.1+ MB\n"
     ]
    }
   ],
   "source": [
    "#the summary about dataset\n",
    "sniker.info()"
   ]
  },
  {
   "cell_type": "markdown",
   "metadata": {},
   "source": [
    "__Insight Dataset__\n",
    "\n",
    "Based on the provided explanation by the dataset owner, this dataset comprises sales data for Nike x Offwhite and Adidas Yeezy 350 shoes from September 1, 2017, to February 13, 2019, sourced from the Stock X sneaker resale platform. It includes a total of 99,956 rows and 8 columns. The data is derived solely from sales in the United States.\n",
    "\n",
    "Columns in the Dataset:\n",
    "- Order Date: Date of the sneaker purchase.\n",
    "- Brand: Brand of the sneakers (Off-White and Yeezy).\n",
    "- Sneaker Name: Name of the purchased sneaker.\n",
    "- Sale Price: Price at which consumers purchased the sneakers, reflecting the prevailing market price (resale price).\n",
    "- Retail Price: Retail price of the sneakers when sold by the store/brand.\n",
    "- Release Date: Release date of each shoe.\n",
    "- Shoe Size: Size of the sneakers purchased by consumers.\n",
    "- Buyer Region: Information regarding the city of the consumer who purchased the sneakers.\n"
   ]
  },
  {
   "cell_type": "markdown",
   "metadata": {},
   "source": [
    "# Data Cleaning"
   ]
  },
  {
   "cell_type": "markdown",
   "metadata": {},
   "source": [
    "During the data cleaning process, values ​​are sanitized from unwanted characters such as inappropriate spaces and currency symbols, and the column data types are replaced. Additionally, a check is performed to identify any null data."
   ]
  },
  {
   "cell_type": "code",
   "execution_count": 6,
   "metadata": {},
   "outputs": [
    {
     "data": {
      "text/plain": [
       "array([' Yeezy', 'Off-White'], dtype=object)"
      ]
     },
     "execution_count": 6,
     "metadata": {},
     "output_type": "execute_result"
    }
   ],
   "source": [
    "#The syntax to view unique values in the data.\n",
    "sniker['Brand'].unique()"
   ]
  },
  {
   "cell_type": "markdown",
   "metadata": {},
   "source": [
    "There is a space in the data \"Yeezy\", hence cleaning is conducted to remove the space."
   ]
  },
  {
   "cell_type": "code",
   "execution_count": 7,
   "metadata": {},
   "outputs": [],
   "source": [
    "#The syntax to remove leading and trailing spaces from a value.\n",
    "sniker['Brand'] = sniker['Brand'].str.strip()"
   ]
  },
  {
   "cell_type": "code",
   "execution_count": 8,
   "metadata": {},
   "outputs": [
    {
     "data": {
      "text/plain": [
       "array(['Yeezy', 'Off-White'], dtype=object)"
      ]
     },
     "execution_count": 8,
     "metadata": {},
     "output_type": "execute_result"
    }
   ],
   "source": [
    "#checking if the process above is working\n",
    "sniker['Brand'].unique()"
   ]
  },
  {
   "cell_type": "markdown",
   "metadata": {},
   "source": [
    "It can be observed that the space within the data \"Yeezy\" is no longer present."
   ]
  },
  {
   "cell_type": "code",
   "execution_count": 9,
   "metadata": {},
   "outputs": [
    {
     "data": {
      "text/plain": [
       "Order Date      False\n",
       "Brand           False\n",
       "Sneaker Name    False\n",
       "Sale Price      False\n",
       "Retail Price    False\n",
       "Release Date    False\n",
       "Shoe Size       False\n",
       "Buyer Region    False\n",
       "dtype: bool"
      ]
     },
     "execution_count": 9,
     "metadata": {},
     "output_type": "execute_result"
    }
   ],
   "source": [
    "#checking if there's a missing value in the dataset.\n",
    "sniker.isnull().any()"
   ]
  },
  {
   "cell_type": "markdown",
   "metadata": {},
   "source": [
    "from the result, there's no missing value "
   ]
  },
  {
   "cell_type": "code",
   "execution_count": 10,
   "metadata": {},
   "outputs": [
    {
     "name": "stdout",
     "output_type": "stream",
     "text": [
      "<class 'pandas.core.frame.DataFrame'>\n",
      "RangeIndex: 99956 entries, 0 to 99955\n",
      "Data columns (total 8 columns):\n",
      " #   Column        Non-Null Count  Dtype  \n",
      "---  ------        --------------  -----  \n",
      " 0   Order Date    99956 non-null  object \n",
      " 1   Brand         99956 non-null  object \n",
      " 2   Sneaker Name  99956 non-null  object \n",
      " 3   Sale Price    99956 non-null  object \n",
      " 4   Retail Price  99956 non-null  object \n",
      " 5   Release Date  99956 non-null  object \n",
      " 6   Shoe Size     99956 non-null  float64\n",
      " 7   Buyer Region  99956 non-null  object \n",
      "dtypes: float64(1), object(7)\n",
      "memory usage: 6.1+ MB\n"
     ]
    }
   ],
   "source": [
    "#showing the summary of the data\n",
    "sniker.info()"
   ]
  },
  {
   "cell_type": "markdown",
   "metadata": {},
   "source": [
    "Based on the data, it can be observed that there are no null values, with a total of 99,956 entries. Additionally, there are columns that do not match their appropriate data types, such as the sale price, retail price, order date, and release date columns. These columns need to be converted to their appropriate data types."
   ]
  },
  {
   "cell_type": "code",
   "execution_count": 11,
   "metadata": {},
   "outputs": [],
   "source": [
    "#The syntax to remove unnecessary symbols from the data.\n",
    "sniker['Retail Price'] = sniker['Retail Price'].str.replace('$',\"\")\n",
    "sniker['Sale Price'] = sniker['Sale Price'].str.replace('$',\"\")\n",
    "\n",
    "\n",
    "sniker['Sale Price'] = sniker['Sale Price'].str.replace(',',\"\")\n",
    "sniker['Retail Price'] = sniker['Retail Price'].str.replace('\\,',\"\")\n"
   ]
  },
  {
   "cell_type": "code",
   "execution_count": 12,
   "metadata": {},
   "outputs": [],
   "source": [
    "#change datatype into integer for Sale Price and Retail Price\n",
    "sniker['Sale Price'] =  sniker['Sale Price'].astype('int64')\n",
    "sniker['Retail Price'] = sniker['Retail Price'].astype('int64')"
   ]
  },
  {
   "cell_type": "code",
   "execution_count": 13,
   "metadata": {},
   "outputs": [
    {
     "name": "stderr",
     "output_type": "stream",
     "text": [
      "C:\\Users\\D5att\\AppData\\Local\\Temp\\ipykernel_20064\\783673310.py:3: UserWarning: Could not infer format, so each element will be parsed individually, falling back to `dateutil`. To ensure parsing is consistent and as-expected, please specify a format.\n",
      "  sniker['Order Date'] = sniker['Order Date'].astype('datetime64[ns]')\n",
      "C:\\Users\\D5att\\AppData\\Local\\Temp\\ipykernel_20064\\783673310.py:4: UserWarning: Could not infer format, so each element will be parsed individually, falling back to `dateutil`. To ensure parsing is consistent and as-expected, please specify a format.\n",
      "  sniker['Release Date'] = sniker['Release Date'].astype('datetime64[ns]')\n"
     ]
    }
   ],
   "source": [
    "#change datatype into datetime for order date and release date\n",
    "\n",
    "sniker['Order Date'] = sniker['Order Date'].astype('datetime64[ns]')\n",
    "sniker['Release Date'] = sniker['Release Date'].astype('datetime64[ns]')"
   ]
  },
  {
   "cell_type": "code",
   "execution_count": 14,
   "metadata": {},
   "outputs": [
    {
     "data": {
      "text/html": [
       "<div>\n",
       "<style scoped>\n",
       "    .dataframe tbody tr th:only-of-type {\n",
       "        vertical-align: middle;\n",
       "    }\n",
       "\n",
       "    .dataframe tbody tr th {\n",
       "        vertical-align: top;\n",
       "    }\n",
       "\n",
       "    .dataframe thead th {\n",
       "        text-align: right;\n",
       "    }\n",
       "</style>\n",
       "<table border=\"1\" class=\"dataframe\">\n",
       "  <thead>\n",
       "    <tr style=\"text-align: right;\">\n",
       "      <th></th>\n",
       "      <th>Order Date</th>\n",
       "      <th>Brand</th>\n",
       "      <th>Sneaker Name</th>\n",
       "      <th>Sale Price</th>\n",
       "      <th>Retail Price</th>\n",
       "      <th>Release Date</th>\n",
       "      <th>Shoe Size</th>\n",
       "      <th>Buyer Region</th>\n",
       "    </tr>\n",
       "  </thead>\n",
       "  <tbody>\n",
       "    <tr>\n",
       "      <th>0</th>\n",
       "      <td>2017-09-01</td>\n",
       "      <td>Yeezy</td>\n",
       "      <td>Adidas-Yeezy-Boost-350-Low-V2-Beluga</td>\n",
       "      <td>1097</td>\n",
       "      <td>220</td>\n",
       "      <td>2016-09-24</td>\n",
       "      <td>11.0</td>\n",
       "      <td>California</td>\n",
       "    </tr>\n",
       "    <tr>\n",
       "      <th>1</th>\n",
       "      <td>2017-09-01</td>\n",
       "      <td>Yeezy</td>\n",
       "      <td>Adidas-Yeezy-Boost-350-V2-Core-Black-Copper</td>\n",
       "      <td>685</td>\n",
       "      <td>220</td>\n",
       "      <td>2016-11-23</td>\n",
       "      <td>11.0</td>\n",
       "      <td>California</td>\n",
       "    </tr>\n",
       "    <tr>\n",
       "      <th>2</th>\n",
       "      <td>2017-09-01</td>\n",
       "      <td>Yeezy</td>\n",
       "      <td>Adidas-Yeezy-Boost-350-V2-Core-Black-Green</td>\n",
       "      <td>690</td>\n",
       "      <td>220</td>\n",
       "      <td>2016-11-23</td>\n",
       "      <td>11.0</td>\n",
       "      <td>California</td>\n",
       "    </tr>\n",
       "    <tr>\n",
       "      <th>3</th>\n",
       "      <td>2017-09-01</td>\n",
       "      <td>Yeezy</td>\n",
       "      <td>Adidas-Yeezy-Boost-350-V2-Core-Black-Red</td>\n",
       "      <td>1075</td>\n",
       "      <td>220</td>\n",
       "      <td>2016-11-23</td>\n",
       "      <td>11.5</td>\n",
       "      <td>Kentucky</td>\n",
       "    </tr>\n",
       "    <tr>\n",
       "      <th>4</th>\n",
       "      <td>2017-09-01</td>\n",
       "      <td>Yeezy</td>\n",
       "      <td>Adidas-Yeezy-Boost-350-V2-Core-Black-Red-2017</td>\n",
       "      <td>828</td>\n",
       "      <td>220</td>\n",
       "      <td>2017-02-11</td>\n",
       "      <td>11.0</td>\n",
       "      <td>Rhode Island</td>\n",
       "    </tr>\n",
       "    <tr>\n",
       "      <th>...</th>\n",
       "      <td>...</td>\n",
       "      <td>...</td>\n",
       "      <td>...</td>\n",
       "      <td>...</td>\n",
       "      <td>...</td>\n",
       "      <td>...</td>\n",
       "      <td>...</td>\n",
       "      <td>...</td>\n",
       "    </tr>\n",
       "    <tr>\n",
       "      <th>99951</th>\n",
       "      <td>2019-02-13</td>\n",
       "      <td>Yeezy</td>\n",
       "      <td>adidas-Yeezy-Boost-350-V2-Static-Reflective</td>\n",
       "      <td>565</td>\n",
       "      <td>220</td>\n",
       "      <td>2018-12-26</td>\n",
       "      <td>8.0</td>\n",
       "      <td>Oregon</td>\n",
       "    </tr>\n",
       "    <tr>\n",
       "      <th>99952</th>\n",
       "      <td>2019-02-13</td>\n",
       "      <td>Yeezy</td>\n",
       "      <td>adidas-Yeezy-Boost-350-V2-Static-Reflective</td>\n",
       "      <td>598</td>\n",
       "      <td>220</td>\n",
       "      <td>2018-12-26</td>\n",
       "      <td>8.5</td>\n",
       "      <td>California</td>\n",
       "    </tr>\n",
       "    <tr>\n",
       "      <th>99953</th>\n",
       "      <td>2019-02-13</td>\n",
       "      <td>Yeezy</td>\n",
       "      <td>adidas-Yeezy-Boost-350-V2-Static-Reflective</td>\n",
       "      <td>605</td>\n",
       "      <td>220</td>\n",
       "      <td>2018-12-26</td>\n",
       "      <td>5.5</td>\n",
       "      <td>New York</td>\n",
       "    </tr>\n",
       "    <tr>\n",
       "      <th>99954</th>\n",
       "      <td>2019-02-13</td>\n",
       "      <td>Yeezy</td>\n",
       "      <td>adidas-Yeezy-Boost-350-V2-Static-Reflective</td>\n",
       "      <td>650</td>\n",
       "      <td>220</td>\n",
       "      <td>2018-12-26</td>\n",
       "      <td>11.0</td>\n",
       "      <td>California</td>\n",
       "    </tr>\n",
       "    <tr>\n",
       "      <th>99955</th>\n",
       "      <td>2019-02-13</td>\n",
       "      <td>Yeezy</td>\n",
       "      <td>adidas-Yeezy-Boost-350-V2-Static-Reflective</td>\n",
       "      <td>640</td>\n",
       "      <td>220</td>\n",
       "      <td>2018-12-26</td>\n",
       "      <td>11.5</td>\n",
       "      <td>Texas</td>\n",
       "    </tr>\n",
       "  </tbody>\n",
       "</table>\n",
       "<p>99956 rows × 8 columns</p>\n",
       "</div>"
      ],
      "text/plain": [
       "      Order Date  Brand                                   Sneaker Name  \\\n",
       "0     2017-09-01  Yeezy           Adidas-Yeezy-Boost-350-Low-V2-Beluga   \n",
       "1     2017-09-01  Yeezy    Adidas-Yeezy-Boost-350-V2-Core-Black-Copper   \n",
       "2     2017-09-01  Yeezy     Adidas-Yeezy-Boost-350-V2-Core-Black-Green   \n",
       "3     2017-09-01  Yeezy       Adidas-Yeezy-Boost-350-V2-Core-Black-Red   \n",
       "4     2017-09-01  Yeezy  Adidas-Yeezy-Boost-350-V2-Core-Black-Red-2017   \n",
       "...          ...    ...                                            ...   \n",
       "99951 2019-02-13  Yeezy    adidas-Yeezy-Boost-350-V2-Static-Reflective   \n",
       "99952 2019-02-13  Yeezy    adidas-Yeezy-Boost-350-V2-Static-Reflective   \n",
       "99953 2019-02-13  Yeezy    adidas-Yeezy-Boost-350-V2-Static-Reflective   \n",
       "99954 2019-02-13  Yeezy    adidas-Yeezy-Boost-350-V2-Static-Reflective   \n",
       "99955 2019-02-13  Yeezy    adidas-Yeezy-Boost-350-V2-Static-Reflective   \n",
       "\n",
       "       Sale Price  Retail Price Release Date  Shoe Size  Buyer Region  \n",
       "0            1097           220   2016-09-24       11.0    California  \n",
       "1             685           220   2016-11-23       11.0    California  \n",
       "2             690           220   2016-11-23       11.0    California  \n",
       "3            1075           220   2016-11-23       11.5      Kentucky  \n",
       "4             828           220   2017-02-11       11.0  Rhode Island  \n",
       "...           ...           ...          ...        ...           ...  \n",
       "99951         565           220   2018-12-26        8.0        Oregon  \n",
       "99952         598           220   2018-12-26        8.5    California  \n",
       "99953         605           220   2018-12-26        5.5      New York  \n",
       "99954         650           220   2018-12-26       11.0    California  \n",
       "99955         640           220   2018-12-26       11.5         Texas  \n",
       "\n",
       "[99956 rows x 8 columns]"
      ]
     },
     "execution_count": 14,
     "metadata": {},
     "output_type": "execute_result"
    }
   ],
   "source": [
    "#check if the dataset is good for analysis\n",
    "sniker"
   ]
  },
  {
   "cell_type": "markdown",
   "metadata": {},
   "source": [
    "Dapat dilihat bahwa data sudah bersih seperti tidak ada symbol pada kolom sale price dan retail price. Sehingga data siap untuk di analisis."
   ]
  },
  {
   "cell_type": "code",
   "execution_count": 15,
   "metadata": {},
   "outputs": [],
   "source": [
    "#saving the clean dataset\n",
    "sniker.to_csv('m1_clean.csv', index=False)"
   ]
  },
  {
   "cell_type": "markdown",
   "metadata": {},
   "source": [
    "# Exploratory Data Analysis"
   ]
  },
  {
   "cell_type": "markdown",
   "metadata": {},
   "source": [
    "The analysis process is divided into two parts: Descriptive Statistical Analysis and Inferential Statistical Analysis. The analysis is conducted to address the problem statement, the results of which serve as the framework for the SMART framework."
   ]
  },
  {
   "cell_type": "markdown",
   "metadata": {},
   "source": [
    "## Descriptive Analysis"
   ]
  },
  {
   "cell_type": "markdown",
   "metadata": {},
   "source": [
    "1. Which shoe models and brands are most favored in terms of popularity?"
   ]
  },
  {
   "cell_type": "code",
   "execution_count": 16,
   "metadata": {},
   "outputs": [
    {
     "data": {
      "text/plain": [
       "Brand\n",
       "Yeezy        72162\n",
       "Off-White    27794\n",
       "Name: count, dtype: int64"
      ]
     },
     "execution_count": 16,
     "metadata": {},
     "output_type": "execute_result"
    }
   ],
   "source": [
    "#Calculating the number of shoes sold for each brand.\n",
    "sniker['Brand'].value_counts()"
   ]
  },
  {
   "cell_type": "markdown",
   "metadata": {},
   "source": [
    "It can be observed that Adidas Yeezy shoes are more popular than Nike x Off-White, as Adidas Yeezy sold 72,162 pairs, while Nike x Off-White sold 27,794 pairs."
   ]
  },
  {
   "cell_type": "code",
   "execution_count": 17,
   "metadata": {},
   "outputs": [
    {
     "data": {
      "image/png": "[encoded data removed]",
      "text/plain": [
       "<Figure size 640x480 with 1 Axes>"
      ]
     },
     "metadata": {},
     "output_type": "display_data"
    }
   ],
   "source": [
    "#The syntax to display a pie chart representing the total sales data between 2 brands.\n",
    "plt.pie(sniker['Brand'].value_counts(), labels = sniker['Brand'].unique(),autopct='%1.1f%%',\n",
    "        shadow=True, startangle=90)\n",
    "plt.legend()\n",
    "plt.title(\"The Most Popular Sneaker Brands\")\n",
    "\n",
    "plt.show() \n"
   ]
  },
  {
   "cell_type": "markdown",
   "metadata": {},
   "source": [
    "From the following pie chart, it can be observed that Yeezy sneaker sales surpass Nike x Off-White sneaker sales. Adidas x Yeezy sales account for 72.2% of all recorded transactions."
   ]
  },
  {
   "cell_type": "code",
   "execution_count": 18,
   "metadata": {},
   "outputs": [
    {
     "data": {
      "text/plain": [
       "Sneaker Name\n",
       "adidas-Yeezy-Boost-350-V2-Butter                     11423\n",
       "Adidas-Yeezy-Boost-350-V2-Beluga-2pt0                10395\n",
       "Adidas-Yeezy-Boost-350-V2-Zebra                      10110\n",
       "Adidas-Yeezy-Boost-350-V2-Blue-Tint                   9297\n",
       "Adidas-Yeezy-Boost-350-V2-Cream-White                 9097\n",
       "Adidas-Yeezy-Boost-350-V2-Sesame                      5553\n",
       "adidas-Yeezy-Boost-350-V2-Static                      4983\n",
       "Adidas-Yeezy-Boost-350-V2-Semi-Frozen-Yellow          4854\n",
       "Air-Jordan-1-Retro-High-Off-White-University-Blue     4635\n",
       "adidas-Yeezy-Boost-350-V2-Static-Reflective           3184\n",
       "Nike-Air-Presto-Off-White-Black-2018                  1884\n",
       "Nike-Air-Presto-Off-White-White-2018                  1883\n",
       "Nike-Air-VaporMax-Off-White-2018                      1591\n",
       "Nike-Blazer-Mid-Off-White-All-Hallows-Eve             1435\n",
       "Nike-Blazer-Mid-Off-White-Grim-Reaper                 1398\n",
       "Nike-Zoom-Fly-Off-White-Pink                          1359\n",
       "Nike-Air-VaporMax-Off-White-Black                     1313\n",
       "Nike-Zoom-Fly-Off-White-Black-Silver                  1222\n",
       "Nike-Air-Force-1-Low-Off-White-Volt                   1019\n",
       "Adidas-Yeezy-Boost-350-V2-Core-Black-Red-2017          969\n",
       "Nike-Air-Force-1-Low-Off-White-Black-White             960\n",
       "Air-Jordan-1-Retro-High-Off-White-Chicago              755\n",
       "Nike-Air-Max-90-Off-White-Black                        722\n",
       "Nike-Zoom-Fly-Mercurial-Off-White-Total-Orange         656\n",
       "Nike-Air-Max-90-Off-White-Desert-Ore                   649\n",
       "Nike-Zoom-Fly-Mercurial-Off-White-Black                645\n",
       "Nike-Air-Max-90-Off-White                              627\n",
       "Adidas-Yeezy-Boost-350-V2-Core-Black-White             621\n",
       "Nike-Air-Presto-Off-White                              596\n",
       "Nike-Air-Max-97-Off-White                              544\n",
       "Nike-Air-VaporMax-Off-White                            525\n",
       "Nike-Blazer-Mid-Off-White                              501\n",
       "Adidas-Yeezy-Boost-350-Low-V2-Beluga                   498\n",
       "Nike-React-Hyperdunk-2017-Flyknit-Off-White            484\n",
       "Nike-Air-Force-1-Low-Off-White                         476\n",
       "Nike-Zoom-Fly-Off-White                                435\n",
       "Nike-Air-Max-97-Off-White-Menta                        343\n",
       "Air-Jordan-1-Retro-High-Off-White-White                313\n",
       "Adidas-Yeezy-Boost-350-V2-Core-Black-Red               302\n",
       "Nike-Air-Max-97-Off-White-Black                        289\n",
       "Nike-Blazer-Mid-Off-White-Wolf-Grey                    288\n",
       "Adidas-Yeezy-Boost-350-V2-Core-Black-Copper            225\n",
       "Nike-Air-Max-97-Off-White-Elemental-Rose-Queen         216\n",
       "Adidas-Yeezy-Boost-350-V2-Core-Black-Green             196\n",
       "Adidas-Yeezy-Boost-350-Low-Pirate-Black-2016           122\n",
       "Adidas-Yeezy-Boost-350-Low-Moonrock                    100\n",
       "Adidas-Yeezy-Boost-350-Low-Pirate-Black-2015            95\n",
       "Adidas-Yeezy-Boost-350-Low-Oxford-Tan                   70\n",
       "Adidas-Yeezy-Boost-350-Low-Turtledove                   68\n",
       "Nike-Air-Force-1-Low-Virgil-Abloh-Off-White-AF100       31\n",
       "Name: count, dtype: int64"
      ]
     },
     "execution_count": 18,
     "metadata": {},
     "output_type": "execute_result"
    }
   ],
   "source": [
    "#To calculate the total sales quantity for each type of shoe.\n",
    "sniker['Sneaker Name'].value_counts()"
   ]
  },
  {
   "cell_type": "markdown",
   "metadata": {},
   "source": [
    "It can be observed that the most purchased shoe is the Adidas Yeezy Boost 350 V2 Butter, with a total of 11,423 pairs sold."
   ]
  },
  {
   "cell_type": "code",
   "execution_count": 19,
   "metadata": {},
   "outputs": [
    {
     "data": {
      "text/plain": [
       "Text(0.5, 0, 'Jumlah Terjual')"
      ]
     },
     "execution_count": 19,
     "metadata": {},
     "output_type": "execute_result"
    },
    {
     "data": {
      "image/png": "[encoded data removed]",
      "text/plain": [
       "<Figure size 640x480 with 1 Axes>"
      ]
     },
     "metadata": {},
     "output_type": "display_data"
    }
   ],
   "source": [
    "#syntax for showing horizontal barplot for showing the most popular shoes\n",
    "sniker['Sneaker Name'].value_counts().head(5).plot(kind=\"barh\")\n",
    "plt.title(\"Jenis Sepatu Yang Paling Laku Terjual\")\n",
    "plt.ylabel(\"Jenis Sepatu\")\n",
    "plt.xlabel(\"Jumlah Terjual\")"
   ]
  },
  {
   "cell_type": "markdown",
   "metadata": {},
   "source": [
    "From the data provided, the best-selling shoe is the Adidas Yeezy Boost 350 V2 Butter, with a total of 11,423 units sold. The bar chart displayed indicates that the top 1 to 5 rankings are dominated by Yeezy shoes."
   ]
  },
  {
   "cell_type": "markdown",
   "metadata": {},
   "source": [
    "2. When is the optimal time to sell shoes?"
   ]
  },
  {
   "cell_type": "code",
   "execution_count": 20,
   "metadata": {},
   "outputs": [
    {
     "data": {
      "text/plain": [
       "Order Date\n",
       "1     14511\n",
       "2      7774\n",
       "3      2745\n",
       "4      2756\n",
       "5      3456\n",
       "6      5431\n",
       "7      7434\n",
       "8      6090\n",
       "9      4671\n",
       "10     7307\n",
       "11    15489\n",
       "12    22292\n",
       "Name: count, dtype: int64"
      ]
     },
     "execution_count": 20,
     "metadata": {},
     "output_type": "execute_result"
    }
   ],
   "source": [
    "# The syntax to calculate the total sales for each month.\n",
    "sniker['Order Date'].dt.month.value_counts().sort_index()"
   ]
  },
  {
   "cell_type": "markdown",
   "metadata": {},
   "source": [
    "Based on this data, the months with the highest number of purchase transactions are December, November, and January."
   ]
  },
  {
   "cell_type": "code",
   "execution_count": 21,
   "metadata": {},
   "outputs": [
    {
     "data": {
      "text/plain": [
       "Text(0, 0.5, 'Quantity Sold')"
      ]
     },
     "execution_count": 21,
     "metadata": {},
     "output_type": "execute_result"
    },
    {
     "data": {
      "image/png": "[encoded data removed]",
      "text/plain": [
       "<Figure size 640x480 with 1 Axes>"
      ]
     },
     "metadata": {},
     "output_type": "display_data"
    }
   ],
   "source": [
    "# Syntax to display a line chart for the number of shoes sold per month\n",
    "sniker['Order Date'].dt.month.value_counts().sort_index().plot(kind=\"line\")\n",
    "plt.title(\"Number of Shoes Sold per Month\")\n",
    "plt.xlabel(\"Month\")\n",
    "plt.ylabel(\"Quantity Sold\")\n"
   ]
  },
  {
   "cell_type": "markdown",
   "metadata": {},
   "source": [
    "From the data, it can be observed that the highest number of shoe sales occurred in December, with a total of 22,292 pairs sold, followed by November with 15,489 pairs and January with 14,511 pairs. It can be concluded that people tend to shop more for shoes towards the end and beginning of the year. This trend is likely influenced by various factors such as year-end discounts and festivities like Christmas and New Year's, where people tend to spend more money on shopping. Additionally, from the data, it can be seen that sales decrease in February compared to January and further decline in March. There is an increase in sales in July but a decrease again in August. Sales increase from November to December."
   ]
  },
  {
   "cell_type": "markdown",
   "metadata": {},
   "source": [
    "3. Daerah mana yang paling banyak membeli sepatu? "
   ]
  },
  {
   "cell_type": "code",
   "execution_count": 22,
   "metadata": {},
   "outputs": [
    {
     "data": {
      "text/plain": [
       "Buyer Region\n",
       "California              19349\n",
       "New York                16525\n",
       "Oregon                   7681\n",
       "Florida                  6376\n",
       "Texas                    5876\n",
       "New Jersey               4720\n",
       "Illinois                 3782\n",
       "Pennsylvania             3109\n",
       "Massachusetts            2903\n",
       "Michigan                 2762\n",
       "Virginia                 2058\n",
       "Ohio                     1890\n",
       "Maryland                 1870\n",
       "Washington               1863\n",
       "Georgia                  1846\n",
       "Arizona                  1398\n",
       "North Carolina           1344\n",
       "Delaware                 1242\n",
       "Connecticut              1110\n",
       "Indiana                  1026\n",
       "Colorado                  954\n",
       "Wisconsin                 840\n",
       "Nevada                    790\n",
       "Tennessee                 731\n",
       "Minnesota                 725\n",
       "Missouri                  660\n",
       "South Carolina            570\n",
       "Louisiana                 537\n",
       "Kentucky                  488\n",
       "Iowa                      460\n",
       "Alabama                   457\n",
       "Utah                      450\n",
       "Oklahoma                  412\n",
       "Hawaii                    383\n",
       "Rhode Island              347\n",
       "Kansas                    340\n",
       "District of Columbia      271\n",
       "Nebraska                  245\n",
       "New Hampshire             241\n",
       "New Mexico                231\n",
       "Arkansas                  173\n",
       "West Virginia             166\n",
       "Mississippi               163\n",
       "Maine                     132\n",
       "Idaho                     107\n",
       "Vermont                    84\n",
       "North Dakota               64\n",
       "Alaska                     61\n",
       "South Dakota               55\n",
       "Montana                    49\n",
       "Wyoming                    40\n",
       "Name: count, dtype: int64"
      ]
     },
     "execution_count": 22,
     "metadata": {},
     "output_type": "execute_result"
    }
   ],
   "source": [
    "#Calculating the total sales from each city.\n",
    "sniker['Buyer Region'].value_counts()"
   ]
  },
  {
   "cell_type": "markdown",
   "metadata": {},
   "source": [
    "Based on the data provided, consumers predominantly originate from California with a total of 19,349 transactions, followed by New York with 16,525 transactions, and Oregon with 7,681 transactions."
   ]
  },
  {
   "cell_type": "code",
   "execution_count": 23,
   "metadata": {},
   "outputs": [
    {
     "data": {
      "image/png": "[encoded data removed]",
      "text/plain": [
       "<Figure size 640x480 with 1 Axes>"
      ]
     },
     "metadata": {},
     "output_type": "display_data"
    }
   ],
   "source": [
    "# Syntax to display a bar chart of buyer locations\n",
    "sniker['Buyer Region'].value_counts().head(5).plot(kind=\"bar\")\n",
    "plt.title(\"Buyer Locations\")\n",
    "plt.xlabel(\"State\")\n",
    "plt.ylabel(\"Number of Shoes Sold\")\n",
    "plt.show()"
   ]
  },
  {
   "cell_type": "markdown",
   "metadata": {},
   "source": [
    "From this data, it's evident that purchases predominantly originate from cities like California and New York. These cities are known for their strong economies in the United States, reflecting the high purchasing power of residents. This trend may be attributed to factors such as higher disposable incomes, greater fashion consciousness, and the presence of affluent neighborhoods within these cities, all of which contribute to increased spending on luxury items like sneakers."
   ]
  },
  {
   "cell_type": "markdown",
   "metadata": {},
   "source": [
    "### Central tedency sale price, shoe size"
   ]
  },
  {
   "cell_type": "code",
   "execution_count": 24,
   "metadata": {},
   "outputs": [
    {
     "name": "stdout",
     "output_type": "stream",
     "text": [
      "The average resale price of shoes is 446.63471927648163\n",
      "The median resale price of shoes is 370.0\n",
      "The standard deviation of resale price of shoes is 255.9829688569934\n",
      "The skewness of resale price of shoes is 3.030301762261918\n",
      "The kurtosis of resale price of shoes is 15.673064458555249\n"
     ]
    }
   ],
   "source": [
    "# Calculating the mean, median, standard deviation, skewness, and kurtosis of the Sale Price column.\n",
    "\n",
    "average_resale_price = sniker['Sale Price'].mean()\n",
    "median_resale_price = sniker['Sale Price'].median(axis=0)\n",
    "std_dev_resale_price = sniker['Sale Price'].std()\n",
    "skewness_resale_price = sniker['Sale Price'].skew()\n",
    "kurtosis_resale_price = sniker['Sale Price'].kurt()\n",
    "\n",
    "print(f'The average resale price of shoes is {average_resale_price}')\n",
    "print(f'The median resale price of shoes is {median_resale_price}')\n",
    "print(f'The standard deviation of resale price of shoes is {std_dev_resale_price}')\n",
    "print(f'The skewness of resale price of shoes is {skewness_resale_price}')\n",
    "print(f'The kurtosis of resale price of shoes is {kurtosis_resale_price}')\n"
   ]
  },
  {
   "cell_type": "markdown",
   "metadata": {},
   "source": [
    "Based on the Sale Price column data, the mean is 446.63471927648163, the median is 370.0, the standard deviation is 255.9829688569934, the skewness is 3.030301762261918, and the kurtosis is 15.673064458555249. With the mean larger than the median, the data distribution is skewed to the left or positively skewed. The skewness value above 1 indicates a highly skewed distribution. The kurtosis value above 1 also suggests that the distribution is leptokurtic. With the standard deviation below the mean, it can be concluded that the data has low variability.\n",
    "\n",
    "Based on this explanation, most shoes are priced around the median of $370. However, the mean is influenced by outliers, which are shoes with very high prices. Nonetheless, the data has low variability due to the low standard deviation. Looking at the median and mean, these shoes are likely Adidas x Yeezy, which dominate sales in this dataset."
   ]
  },
  {
   "cell_type": "code",
   "execution_count": 25,
   "metadata": {},
   "outputs": [
    {
     "data": {
      "text/plain": [
       "<Axes: >"
      ]
     },
     "execution_count": 25,
     "metadata": {},
     "output_type": "execute_result"
    },
    {
     "data": {
      "image/png": "[encoded data removed]",
      "text/plain": [
       "<Figure size 1000x400 with 2 Axes>"
      ]
     },
     "metadata": {},
     "output_type": "display_data"
    }
   ],
   "source": [
    "# Syntax to display a Bar chart and Boxplot of the Sale Price column\n",
    "\n",
    "fig, ax = plt.subplots(ncols=2,figsize=(10,4))\n",
    "\n",
    "sniker['Sale Price'].plot(kind='hist',bins=20,ax=ax[0])\n",
    "sniker['Sale Price'].plot(kind='box',ax=ax[1])"
   ]
  },
  {
   "cell_type": "markdown",
   "metadata": {},
   "source": [
    "The explanation above is supported by the bar chart illustrating a left-skewed data distribution with the presence of outliers. The boxplot chart depicts the presence of numerous outliers."
   ]
  },
  {
   "cell_type": "code",
   "execution_count": 26,
   "metadata": {},
   "outputs": [
    {
     "name": "stdout",
     "output_type": "stream",
     "text": [
      "The average shoe size sold is 9.344181439833527\n",
      "The median shoe size sold is 9.5\n",
      "The standard deviation of shoe size sold is 2.3295876028888465\n",
      "The skewness of shoe size sold is -0.3806057726037941\n",
      "The kurtosis of shoe size sold is -0.31964085126902786\n"
     ]
    }
   ],
   "source": [
    "# Calculating the mean, median, standard deviation, skewness, and kurtosis of the Shoe Size column.\n",
    "\n",
    "average_shoe_size = sniker['Shoe Size'].mean()\n",
    "median_shoe_size = sniker['Shoe Size'].median(axis=0)\n",
    "std_dev_shoe_size = sniker['Shoe Size'].std()\n",
    "skewness_shoe_size = sniker['Shoe Size'].skew()\n",
    "kurtosis_shoe_size = sniker['Shoe Size'].kurt()\n",
    "\n",
    "print(f'The average shoe size sold is {average_shoe_size}')\n",
    "print(f'The median shoe size sold is {median_shoe_size}')\n",
    "print(f'The standard deviation of shoe size sold is {std_dev_shoe_size}')\n",
    "print(f'The skewness of shoe size sold is {skewness_shoe_size}')\n",
    "print(f'The kurtosis of shoe size sold is {kurtosis_shoe_size}')"
   ]
  },
  {
   "cell_type": "markdown",
   "metadata": {},
   "source": [
    "Based on the data from the Shoe Size column, the average shoe size sold is 9.344181439833527, the median is 9.5, the standard deviation is 2.3295876028888465, the skewness is -0.3806057726037941, and the kurtosis is -0.31964085126902786. With a skewness value below -0.5, the distribution for this data is symmetric. The close proximity of the mean and median suggests that the data is fairly symmetrical. The standard deviation below the mean and approaching 0 indicates low variability and the data points are not far from the mean.\n",
    "\n",
    "Based on this explanation, the mean and median values are not significantly different, both around 9.5."
   ]
  },
  {
   "cell_type": "code",
   "execution_count": 27,
   "metadata": {},
   "outputs": [
    {
     "data": {
      "text/plain": [
       "<Axes: >"
      ]
     },
     "execution_count": 27,
     "metadata": {},
     "output_type": "execute_result"
    },
    {
     "data": {
      "image/png": "[encoded data removed]",
      "text/plain": [
       "<Figure size 1000x400 with 2 Axes>"
      ]
     },
     "metadata": {},
     "output_type": "display_data"
    }
   ],
   "source": [
    "# Syntax to display a bar chart and boxplot of the Shoe Size column\n",
    "fig, ax = plt.subplots(ncols=2,figsize=(10,4))\n",
    "sniker['Shoe Size'].plot(kind='hist',bins=20,ax=ax[0])\n",
    "sniker['Shoe Size'].plot(kind='box',ax=ax[1],vert=False)"
   ]
  },
  {
   "cell_type": "markdown",
   "metadata": {},
   "source": [
    "As explained above, the data distribution tends to be normal, but when observing the boxplot, there are outlier values. However, these values do not significantly impact the overall data values."
   ]
  },
  {
   "cell_type": "markdown",
   "metadata": {},
   "source": [
    "### Correlation Test"
   ]
  },
  {
   "cell_type": "markdown",
   "metadata": {},
   "source": [
    "\"I want to determine if the price is influenced by the size of the shoes sold. Can I sell one type of shoe at the same price or different prices? A correlation test is needed.\""
   ]
  },
  {
   "cell_type": "markdown",
   "metadata": {},
   "source": [
    "\"Is there a correlation between shoe size and the resale price of sneakers?\""
   ]
  },
  {
   "cell_type": "markdown",
   "metadata": {},
   "source": [
    "h0: There is no correlation between the resale price of sneakers and the size of sneakers.  \n",
    "h1: There is a correlation between the resale price of sneakers and the size of sneakers."
   ]
  },
  {
   "cell_type": "code",
   "execution_count": 28,
   "metadata": {},
   "outputs": [
    {
     "name": "stdout",
     "output_type": "stream",
     "text": [
      "rho-correlation: 0.08, p-value: 1.702653682050742e-147\n"
     ]
    }
   ],
   "source": [
    "# Correlation test using the Spearman method\n",
    "corr_rho, pval_s = stats.spearmanr(sniker['Sale Price'], sniker['Shoe Size'])\n",
    "print(f\"rho-correlation: {corr_rho:.2f}, p-value: {pval_s}\")\n",
    "\n",
    "# The selection of the Spearman method is due to the data not being normally distributed, and this method is not sensitive to outliers."
   ]
  },
  {
   "cell_type": "markdown",
   "metadata": {},
   "source": [
    "Based on the correlation result of 0.08 and the p-value of p-value: 1.702653682050742e-147, since the p-value is below 0.05, we accept h1, indicating a correlation between the resale price of shoes and the size of shoes. Furthermore, the positive correlation value indicates a positive correlation between the relationship."
   ]
  },
  {
   "cell_type": "code",
   "execution_count": 29,
   "metadata": {},
   "outputs": [
    {
     "name": "stderr",
     "output_type": "stream",
     "text": [
      "c:\\Users\\D5att\\anaconda3\\Lib\\site-packages\\seaborn\\axisgrid.py:118: UserWarning: The figure layout has changed to tight\n",
      "  self._figure.tight_layout(*args, **kwargs)\n"
     ]
    },
    {
     "data": {
      "text/plain": [
       "<seaborn.axisgrid.FacetGrid at 0x18236a78ed0>"
      ]
     },
     "execution_count": 29,
     "metadata": {},
     "output_type": "execute_result"
    },
    {
     "data": {
      "image/png": "[encoded data removed]",
      "text/plain": [
       "<Figure size 500x500 with 1 Axes>"
      ]
     },
     "metadata": {},
     "output_type": "display_data"
    }
   ],
   "source": [
    "# Scatterplot to visualize the correlation between sale price and shoe size\n",
    "sns.lmplot(data=sniker,x='Sale Price', y='Shoe Size')"
   ]
  },
  {
   "cell_type": "markdown",
   "metadata": {},
   "source": [
    "Supporting the explanation above, based on the scatter diagram, there is a positive correlation. This implies that shoe size influences the resale price of shoes. It can be observed that as the shoe size increases, the selling price of the shoes also tends to increase. This phenomenon is influenced by the supply and demand dynamics of a shoe. Based on the calculated average shoe size, which is 9.5, it suggests that shoe sizes smaller or larger than this tend to be more expensive."
   ]
  },
  {
   "cell_type": "markdown",
   "metadata": {},
   "source": [
    "## Inferential Analysis"
   ]
  },
  {
   "cell_type": "markdown",
   "metadata": {},
   "source": [
    "### Confidence Interval"
   ]
  },
  {
   "cell_type": "markdown",
   "metadata": {},
   "source": [
    "I need the minimum and maximum prices for each brand to determine the price range at which shoes tend to sell more quickly. Then, based on the results, shoes within that range will be considered. Additionally, I also require the range of sizes that are most popular to focus on the types and sizes of shoes that are in high demand."
   ]
  },
  {
   "cell_type": "markdown",
   "metadata": {},
   "source": [
    "__Off-White Brand__"
   ]
  },
  {
   "cell_type": "code",
   "execution_count": 30,
   "metadata": {},
   "outputs": [
    {
     "name": "stdout",
     "output_type": "stream",
     "text": [
      "Lower Limit: [669.40665979]\n",
      "Upper Limit: [673.55592206]\n"
     ]
    }
   ],
   "source": [
    "# Calculate the minimum and maximum prices from the overall 95% sales data of Nike x Off-White shoes\n",
    "harga = sniker[['Sale Price']].loc[sniker['Brand'] == 'Off-White']\n",
    "std = harga.std()\n",
    "N = len(sniker)\n",
    "low, up = stats.norm.interval(0.95,loc=harga.mean(),scale=std/np.sqrt(N))\n",
    "print('Lower Limit:',low)\n",
    "print('Upper Limit:',up)"
   ]
  },
  {
   "cell_type": "markdown",
   "metadata": {},
   "source": [
    "The insight gained from these values is that from the resale price data of Nike x Off-White shoes, 95% of the products are sold at an average low price of 669 and an average high price of 673. Therefore, it can be concluded that items tend to sell more around these prices. It is possible that higher-priced items may also sell, but such data falls into the outlier category."
   ]
  },
  {
   "cell_type": "code",
   "execution_count": 31,
   "metadata": {},
   "outputs": [
    {
     "data": {
      "text/plain": [
       "['Nike-Blazer-Mid-Off-White',\n",
       " 'Nike-Air-Max-90-Off-White',\n",
       " 'Nike-Air-VaporMax-Off-White',\n",
       " 'Nike-Air-Force-1-Low-Off-White',\n",
       " 'Nike-Air-Max-97-Off-White',\n",
       " 'Nike-Air-VaporMax-Off-White-Black',\n",
       " 'Nike-Zoom-Fly-Off-White',\n",
       " 'Nike-React-Hyperdunk-2017-Flyknit-Off-White',\n",
       " 'Air-Jordan-1-Retro-High-Off-White-University-Blue',\n",
       " 'Nike-Air-Presto-Off-White-Black-2018',\n",
       " 'Nike-Air-Presto-Off-White-White-2018',\n",
       " 'Nike-Blazer-Mid-Off-White-All-Hallows-Eve',\n",
       " 'Nike-Blazer-Mid-Off-White-Grim-Reaper',\n",
       " 'Nike-Air-Max-97-Off-White-Black',\n",
       " 'Nike-Blazer-Mid-Off-White-Wolf-Grey',\n",
       " 'Nike-Air-Max-97-Off-White-Menta',\n",
       " 'Nike-Air-Force-1-Low-Off-White-Black-White',\n",
       " 'Nike-Air-Max-90-Off-White-Desert-Ore']"
      ]
     },
     "execution_count": 31,
     "metadata": {},
     "output_type": "execute_result"
    }
   ],
   "source": [
    "# Types of shoes that meet the minimum and maximum prices\n",
    "priceOW =  sniker[(sniker['Brand']== 'Off-White') & (sniker['Sale Price'] >= 669.40665979) & (sniker['Sale Price'] <= 673.55592206)]\n",
    "list(priceOW['Sneaker Name'].unique())\n"
   ]
  },
  {
   "cell_type": "markdown",
   "metadata": {},
   "source": [
    "Here are the types of shoes that fall within the minimum and maximum price ranges from the above calculations. Among them are the Nike Blazer Mid Off-White, Nike Air Max 90 Off-White, and Nike Air VaporMax Off-White."
   ]
  },
  {
   "cell_type": "markdown",
   "metadata": {},
   "source": [
    "__Yeezy Brand__"
   ]
  },
  {
   "cell_type": "code",
   "execution_count": 32,
   "metadata": {},
   "outputs": [
    {
     "name": "stdout",
     "output_type": "stream",
     "text": [
      "Lower Limit: [430.96981327]\n",
      "Upper Limit: [433.10831095]\n"
     ]
    }
   ],
   "source": [
    "#Syntax to determine the minimum and maximum prices from the overall 95% sales data of Adidas Yeezy shoes.\n",
    "harga = sniker[['Sale Price']].loc[sniker['Brand'] == 'Yeezy']*1.2\n",
    "std = harga.std()\n",
    "N = len(sniker)\n",
    "low, up = stats.norm.interval(0.95,loc=harga.mean(),scale=std/np.sqrt(N))\n",
    "print('Lower Limit:',low)\n",
    "print('Upper Limit:',up)"
   ]
  },
  {
   "cell_type": "markdown",
   "metadata": {},
   "source": [
    "The insight obtained from the values is that from the resale price data of Adidas Yeezy shoes, 95% of the products are sold at an average low price of 430 and an average high price of 433. Therefore, it can be concluded that items tend to sell more around these prices."
   ]
  },
  {
   "cell_type": "code",
   "execution_count": 33,
   "metadata": {},
   "outputs": [
    {
     "data": {
      "text/plain": [
       "['Adidas-Yeezy-Boost-350-V2-Cream-White',\n",
       " 'Adidas-Yeezy-Boost-350-V2-Beluga-2pt0',\n",
       " 'Adidas-Yeezy-Boost-350-V2-Blue-Tint',\n",
       " 'Adidas-Yeezy-Boost-350-V2-Semi-Frozen-Yellow',\n",
       " 'Adidas-Yeezy-Boost-350-V2-Zebra',\n",
       " 'adidas-Yeezy-Boost-350-V2-Static',\n",
       " 'adidas-Yeezy-Boost-350-V2-Static-Reflective']"
      ]
     },
     "execution_count": 33,
     "metadata": {},
     "output_type": "execute_result"
    }
   ],
   "source": [
    "#Syntax to determine the types of shoes that meet the minimum and maximum prices from the calculations.\n",
    "priceYE =  sniker[(sniker['Brand']== 'Yeezy') & (sniker['Sale Price'] >= 430.96981327) & (sniker['Sale Price'] <= 433.10831095)]\n",
    "list(priceYE['Sneaker Name'].unique())"
   ]
  },
  {
   "cell_type": "markdown",
   "metadata": {},
   "source": [
    "Here are the types of shoes that fall within the minimum and maximum price ranges from the calculations. Among them are the Adidas Yeezy Boost 350 V2 Cream White, Adidas Yeezy Boost 350 V2 Beluga 2.0, and Adidas Yeezy Boost 350 V2 Blue Tint."
   ]
  },
  {
   "cell_type": "markdown",
   "metadata": {},
   "source": [
    "It is possible that higher-priced items may also sell, but such data falls into the outlier category, indicating that fewer people purchase shoes in larger sizes."
   ]
  },
  {
   "cell_type": "markdown",
   "metadata": {},
   "source": [
    "__size__"
   ]
  },
  {
   "cell_type": "code",
   "execution_count": 34,
   "metadata": {},
   "outputs": [
    {
     "name": "stdout",
     "output_type": "stream",
     "text": [
      "Lower Limit: [9.32973959]\n",
      "Upper Limit: [9.35862329]\n"
     ]
    }
   ],
   "source": [
    "#Syntax to determine the minimum and maximum shoe sizes from the overall 95% sales data of shoes.\n",
    "\n",
    "size = sniker[['Shoe Size']]\n",
    "std = size.std()\n",
    "N = len(sniker)\n",
    "low, up = stats.norm.interval(0.95,loc=size.mean(),scale=std/np.sqrt(N))\n",
    "print('Lower Limit:',low)\n",
    "print('Upper Limit:',up)"
   ]
  },
  {
   "cell_type": "markdown",
   "metadata": {},
   "source": [
    "The insight obtained from the data is that the lower and upper limits are very close, around Size 9. Therefore, on average, 95% of the shoes sold are around size 9."
   ]
  },
  {
   "cell_type": "markdown",
   "metadata": {},
   "source": [
    "### Hypotesis Test"
   ]
  },
  {
   "cell_type": "markdown",
   "metadata": {},
   "source": [
    "This hypothesis test aims to determine whether the average shoe size sold for Adidas x Yeezy and Nike x Off-White brands are equal or not. The expected insight is to gain clarity in purchasing decisions regarding whether there is a difference in the average sizing between each brand. Thus, it will help in understanding whether buying the same size for both brands can maximize profit based on the average shoe size sold per brand."
   ]
  },
  {
   "cell_type": "markdown",
   "metadata": {},
   "source": [
    "Hypothesis:  \n",
    "h0: The average shoe size of Yeezy is == to Off-White.  \n",
    "h1: The average shoe size of Yeezy is != to Off-White."
   ]
  },
  {
   "cell_type": "code",
   "execution_count": 35,
   "metadata": {},
   "outputs": [],
   "source": [
    "\n",
    "# Grouping shoe sizes for the Yeezy brand\n",
    "size_ye = sniker['Shoe Size'].loc[sniker['Brand'] == 'Yeezy']\n"
   ]
  },
  {
   "cell_type": "code",
   "execution_count": 36,
   "metadata": {},
   "outputs": [
    {
     "data": {
      "text/plain": [
       "9.238331808985338"
      ]
     },
     "execution_count": 36,
     "metadata": {},
     "output_type": "execute_result"
    }
   ],
   "source": [
    "#Average shoe size for Yeezy sneakers\n",
    "size_ye.mean()"
   ]
  },
  {
   "cell_type": "code",
   "execution_count": 37,
   "metadata": {},
   "outputs": [],
   "source": [
    "#Grouping sneaker sizes for the Nike x Off-White brand\n",
    "\n",
    "size_ow = sniker['Shoe Size'].loc[sniker['Brand'] == 'Off-White']\n"
   ]
  },
  {
   "cell_type": "code",
   "execution_count": 38,
   "metadata": {},
   "outputs": [
    {
     "data": {
      "text/plain": [
       "9.619000503705836"
      ]
     },
     "execution_count": 38,
     "metadata": {},
     "output_type": "execute_result"
    }
   ],
   "source": [
    "#Average size of Nike x Off-White sneakers\n",
    "size_ow.mean()"
   ]
  },
  {
   "cell_type": "code",
   "execution_count": 39,
   "metadata": {},
   "outputs": [
    {
     "name": "stdout",
     "output_type": "stream",
     "text": [
      "P-value: 7.613829548770925e-119\n",
      "t-statistics: -23.209105589178314\n"
     ]
    }
   ],
   "source": [
    "#Hypothesis Testing Using the Two Independent Samples Method\n",
    "t_stat, p_val = stats.ttest_ind(size_ye, size_ow)\n",
    "print(f'P-value: {p_val}') \n",
    "print('t-statistics:',t_stat)"
   ]
  },
  {
   "cell_type": "markdown",
   "metadata": {},
   "source": [
    "Based on the hypothesis test, the p value obtained is below 0.05, so h1 is accepted. hypothesis h1 is that the average size of Yezzy shoes sold is not the same as the size of off-white shoes sold. It can be clarified that the average for Yeezy shoes is more in size 9 and for Nike x Offwhite shoes more in size 9.5. So there is a difference in purchases for stock shoes later."
   ]
  },
  {
   "cell_type": "markdown",
   "metadata": {},
   "source": [
    "# Conclusion"
   ]
  },
  {
   "cell_type": "markdown",
   "metadata": {},
   "source": [
    "Based on the results of the analysis carried out, Adidas Yeezy shoes sell faster than Nike x Off-White shoes. To sell Adidas Yeezy, the most popular price range is 430 - 433 dollars with a size of around size 9. To sell off-white shoes, you can sell shoes in the range of 669 - 673 dollars with a size of around size 9.5. But there is an analysis that overall, on average, most transactions occur for shoe sizes US 8 to US 10. So I can buy stock of shoes in that range. But there is more stock for Size 9 on Adidas Yeezy shoes and Size 9.5 on Nike x Offwhite shoes. Based on this data, it can also be concluded that if you create a target market for consumers in certain cities with high economic levels, it will be able to influence sellers of goods. Apart from that, increasing promotions at the end of the year and January would be better because based on data, many transactions occur in November, December and January. So based on this data, it is recommended to increase the supply of goods due to the high purchasing power of consumers in November, December and January to get big profits from the number of sneakers sold."
   ]
  }
 ],
 "metadata": {
  "kernelspec": {
   "display_name": "base",
   "language": "python",
   "name": "python3"
  },
  "language_info": {
   "codemirror_mode": {
    "name": "ipython",
    "version": 3
   },
   "file_extension": ".py",
   "mimetype": "text/x-python",
   "name": "python",
   "nbconvert_exporter": "python",
   "pygments_lexer": "ipython3",
   "version": "3.11.5"
  }
 },
 "nbformat": 4,
 "nbformat_minor": 2
}
